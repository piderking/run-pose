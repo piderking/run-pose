{
 "cells": [
  {
   "attachments": {},
   "cell_type": "markdown",
   "metadata": {},
   "source": [
    "# Install Libraries\n",
    "\n",
    "- Varies from IDE,\n",
    "\n",
    "\n",
    "\n",
    "## PyCharm\n",
    "\n",
    "\n",
    "Terminal\n",
    "```shell\n",
    "bash scripts/install.sh \n",
    "```\n",
    "\n",
    "or PyCharm Task\n",
    "<br>\n",
    "<br>\n",
    "![image](./images/pycharm-run.png)\n",
    "\n",
    "## Others\n",
    "<tab>Any command-line idea\n",
    "\n",
    "## Virtual Enviroment\n",
    "\n",
    "### Conda\n",
    "(Set Up Your Interpreter for IPNYB files)\n",
    "FOR CMD\n",
    "```shell\n",
    "conda activate run-pose\n",
    "```\n",
    "### Venv\n",
    "```shell\n",
    "python3 -m venv venv\n",
    "source activate venv/bin/activate\n",
    "```\n",
    "\n",
    "## Install\n",
    "Terminal\n",
    "```shell\n",
    "bash scripts/install.sh \n",
    "```\n"
   ]
  },
  {
   "cell_type": "code",
   "execution_count": null,
   "metadata": {},
   "outputs": [],
   "source": []
  }
 ],
 "metadata": {
  "kernelspec": {
   "display_name": "Python 3",
   "language": "python",
   "name": "python3"
  },
  "language_info": {
   "codemirror_mode": {
    "name": "ipython",
    "version": 3
   },
   "file_extension": ".py",
   "mimetype": "text/x-python",
   "name": "python",
   "nbconvert_exporter": "python",
   "pygments_lexer": "ipython3",
   "version": "3.10.12"
  },
  "orig_nbformat": 4,
  "vscode": {
   "interpreter": {
    "hash": "916dbcbb3f70747c44a77c7bcd40155683ae19c65e1c03b4aa3499c5328201f1"
   }
  }
 },
 "nbformat": 4,
 "nbformat_minor": 2
}
